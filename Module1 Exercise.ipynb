{
 "cells": [
  {
   "cell_type": "markdown",
   "metadata": {},
   "source": [
    "## Questions"
   ]
  },
  {
   "cell_type": "markdown",
   "metadata": {},
   "source": [
    "1. What is a hardware?"
   ]
  },
  {
   "cell_type": "markdown",
   "metadata": {},
   "source": [
    "hardware is the physical parts of a computer system."
   ]
  },
  {
   "cell_type": "markdown",
   "metadata": {},
   "source": []
  },
  {
   "cell_type": "markdown",
   "metadata": {},
   "source": [
    "2. What is a software?"
   ]
  },
  {
   "cell_type": "markdown",
   "metadata": {},
   "source": [
    "software is instructions that tell a computer what to do."
   ]
  },
  {
   "cell_type": "markdown",
   "metadata": {},
   "source": []
  },
  {
   "cell_type": "markdown",
   "metadata": {},
   "source": [
    "3. Convert 10011001 to a decimal number"
   ]
  },
  {
   "cell_type": "markdown",
   "metadata": {},
   "source": [
    "153"
   ]
  },
  {
   "cell_type": "markdown",
   "metadata": {},
   "source": []
  },
  {
   "cell_type": "markdown",
   "metadata": {},
   "source": [
    "4. Convert 11101100 to a decimal number"
   ]
  },
  {
   "cell_type": "markdown",
   "metadata": {},
   "source": [
    "236"
   ]
  },
  {
   "cell_type": "markdown",
   "metadata": {},
   "source": []
  },
  {
   "cell_type": "markdown",
   "metadata": {},
   "source": [
    "5. Decode this secret message:\n",
    "01001100 01101111 01100111 01101001 01100011"
   ]
  },
  {
   "cell_type": "markdown",
   "metadata": {},
   "source": [
    "Logic"
   ]
  },
  {
   "cell_type": "markdown",
   "metadata": {},
   "source": []
  },
  {
   "cell_type": "markdown",
   "metadata": {},
   "source": [
    "6. Identify and explain stages of Programming."
   ]
  },
  {
   "cell_type": "markdown",
   "metadata": {},
   "source": [
    "There are five stages.\n",
    "1.Analyze is figure out the problem, and decide how to resolve the problem \n",
    "2.Planning is the solution to a problem are to draw a flowchart and to write pseudocode\n",
    "3.Coding the program-that is, to express your solution in a programming language\n",
    "4.Testing is a way to check whether each and every line of code has been executed.\n",
    "4.maintenace the code is debugging logic errors and written detailed description (documentation).\n"
   ]
  },
  {
   "cell_type": "markdown",
   "metadata": {},
   "source": []
  },
  {
   "cell_type": "markdown",
   "metadata": {},
   "source": [
    "7. You need to write a program to compute total sales amount when sales tax is 5%. Identify IPO (inpt, process, output) for this program."
   ]
  },
  {
   "cell_type": "markdown",
   "metadata": {},
   "source": [
    "$50*5%/100(input) = (a formula is process) 5 (output)"
   ]
  },
  {
   "cell_type": "markdown",
   "metadata": {},
   "source": []
  },
  {
   "cell_type": "markdown",
   "metadata": {},
   "source": [
    "8. Identify IPO for converting liters to US gallons."
   ]
  },
  {
   "cell_type": "markdown",
   "metadata": {},
   "source": [
    "10L (input) = (process)  2.6  (output)"
   ]
  },
  {
   "cell_type": "markdown",
   "metadata": {},
   "source": []
  },
  {
   "cell_type": "markdown",
   "metadata": {},
   "source": [
    "9. Identify IPO for computing a worker's pay. What information/data do you need?"
   ]
  },
  {
   "cell_type": "markdown",
   "metadata": {},
   "source": [
    "A list of employee names, working hours, and payment rates is needed. In addition, we need a dedication amount, including tax."
   ]
  },
  {
   "cell_type": "markdown",
   "metadata": {},
   "source": []
  }
 ],
 "metadata": {
  "kernelspec": {
   "display_name": "Python 3 (ipykernel)",
   "language": "python",
   "name": "python3"
  },
  "language_info": {
   "codemirror_mode": {
    "name": "ipython",
    "version": 3
   },
   "file_extension": ".py",
   "mimetype": "text/x-python",
   "name": "python",
   "nbconvert_exporter": "python",
   "pygments_lexer": "ipython3",
   "version": "3.9.12"
  }
 },
 "nbformat": 4,
 "nbformat_minor": 4
}
